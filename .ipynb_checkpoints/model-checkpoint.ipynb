{
 "cells": [
  {
   "cell_type": "code",
   "execution_count": 25,
   "metadata": {},
   "outputs": [],
   "source": [
    "import numpy as np\n",
    "import torch\n",
    "import torch.nn as nn\n",
    "import torch.nn.functional as F"
   ]
  },
  {
   "cell_type": "code",
   "execution_count": 26,
   "metadata": {},
   "outputs": [],
   "source": [
    "#load data\n",
    "train_data = np.loadtxt('./train.csv', delimiter=',', dtype=str, skiprows=1)\n",
    "#label = data\n",
    "#set_label = set(label)\n",
    "#print(data)"
   ]
  },
  {
   "cell_type": "code",
   "execution_count": 27,
   "metadata": {},
   "outputs": [],
   "source": [
    "#load one-hot encoding set\n",
    "symptom_set = disease_set = []\n",
    "with open('ohe_symptoms.txt', 'r') as ohe:\n",
    "    symptom_set = ohe.readlines()\n",
    "symptom_set = [s[:-1] for s in symptom_set]\n",
    "\n",
    "with open('ohe_diseases.txt', 'r') as ohe:\n",
    "    disease_set = ohe.readlines()\n",
    "disease_set = [d[:-1] for d in disease_set]"
   ]
  },
  {
   "cell_type": "code",
   "execution_count": 16,
   "metadata": {},
   "outputs": [
    {
     "name": "stdout",
     "output_type": "stream",
     "text": [
      "3\n"
     ]
    }
   ],
   "source": [
    "#131 possible symptoms\n",
    "#41 diseases\n",
    "#print(data)\n",
    "print(symptom_set)"
   ]
  },
  {
   "cell_type": "code",
   "execution_count": 29,
   "metadata": {},
   "outputs": [
    {
     "name": "stdout",
     "output_type": "stream",
     "text": [
      "['movement_stiffness', 'brittle_nails', 'swollen_legs', 'stomach_pain', 'weakness_of_one_body_side', 'unsteadiness', 'rusty_sputum', 'back_pain', 'dehydration', 'irregular_sugar_level', 'lack_of_concentration', 'stomach_bleeding', 'itching', 'toxic_look_(typhos)', 'nodal_skin_eruptions', 'sinus_pressure', 'weakness_in_limbs', 'yellowing_of_eyes', 'yellowish_skin', 'bladder_discomfort', 'enlarged_thyroid', 'painful_walking', 'muscle_weakness', 'runny_nose', 'vomiting', 'skin_peeling', 'headache', 'abdominal_pain', 'shivering', 'silver_like_dusting', 'loss_of_smell', 'excessive_hunger', 'dizziness', 'blackheads', 'loss_of_balance', 'high_fever', 'nausea', 'mood_swings', 'dischromic _patches', 'slurred_speech', 'fluid_overload', 'receiving_blood_transfusion', 'blood_in_sputum', 'swelling_joints', 'altered_sensorium', 'swelling_of_stomach', 'burning_micturition', 'breathlessness', 'fast_heart_rate', 'cough', 'family_history', 'pain_in_anal_region', 'obesity', 'blister', 'pain_during_bowel_movements', 'palpitations', 'congestion', 'puffy_face_and_eyes', 'depression', 'dark_urine', 'small_dents_in_nails', 'bloody_stool', 'swollen_blood_vessels', 'throat_irritation', 'weight_loss', 'pain_behind_the_eyes', 'muscle_wasting', 'lethargy', 'acute_liver_failure', 'weight_gain', 'sunken_eyes', 'swollen_extremeties', 'phlegm', 'passage_of_gases', 'redness_of_eyes', 'visual_disturbances', 'swelled_lymph_nodes', 'ulcers_on_tongue', 'belly_pain', 'continuous_feel_of_urine', 'yellow_urine', 'spinning_movements', 'drying_and_tingling_lips', 'yellow_crust_ooze', 'continuous_sneezing', 'extra_marital_contacts', 'chest_pain', 'chills', 'loss_of_appetite', 'bruising', 'constipation', 'cramps', 'irritability', 'restlessness', 'watering_from_eyes', 'neck_pain', 'red_spots_over_body', 'hip_joint_pain', 'mucoid_sputum', 'malaise', 'indigestion', 'sweating', 'inflammatory_nails', 'pus_filled_pimples', 'cold_hands_and_feets', 'muscle_pain', 'history_of_alcohol_consumption', 'scurring', 'acidity', 'abnormal_menstruation', 'irritation_in_anus', 'diarrhoea', 'patches_in_throat', 'red_sore_around_nose', 'spotting_ urination', 'joint_pain', 'prominent_veins_on_calf', 'blurred_and_distorted_vision', 'knee_pain', 'foul_smell_of urine', 'coma', 'increased_appetite', 'stiff_neck', 'mild_fever', 'anxiety', 'fatigue', 'distention_of_abdomen', 'receiving_unsterile_injections', 'skin_rash', 'internal_itching', 'polyuria']\n"
     ]
    }
   ],
   "source": [
    "print(symptom_set)"
   ]
  },
  {
   "cell_type": "code",
   "execution_count": 28,
   "metadata": {},
   "outputs": [],
   "source": [
    "def transform_train_data(X):\n",
    "    N,d = X.shape\n",
    "\n",
    "    symptoms = X[:,1:]\n",
    "    set_symptom = set(symptoms.flatten())\n",
    "    set_symptom.remove('')\n",
    "    symptoms = list(set_symptom)\n",
    "\n",
    "    i = 0\n",
    "    for s in symptoms:\n",
    "        if s[0] == ' ':\n",
    "            symptoms[i] = symptoms[i][1:]\n",
    "        i += 1\n",
    "\n",
    "    diseases = X[:,0]\n",
    "    set_diseases = set(diseases)\n",
    "    diseases = list(set_diseases)\n",
    "\n",
    "    trans_input = np.zeros(shape=(N, 131), dtype=int)\n",
    "    trans_label = np.zeros(shape=(N,1), dtype=int)\n",
    "    for i in range(N):\n",
    "        for sym in X[i,1:]:\n",
    "            if sym != '':\n",
    "                s = sym\n",
    "                if s[0] == ' ':\n",
    "                    s = s[1:]\n",
    "                trans_input[i,symptoms.index(s)] = 1\n",
    "        trans_label[i,0] = diseases.index(X[i,0])\n",
    "    return trans_input, trans_label, symptoms, diseases"
   ]
  },
  {
   "cell_type": "code",
   "execution_count": 21,
   "metadata": {},
   "outputs": [
    {
     "name": "stdout",
     "output_type": "stream",
     "text": [
      "['movement_stiffness', 'brittle_nails', 'swollen_legs', 'stomach_pain', 'weakness_of_one_body_side', 'unsteadiness', 'rusty_sputum', 'back_pain', 'dehydration', 'irregular_sugar_level', 'lack_of_concentration', 'stomach_bleeding', 'itching', 'toxic_look_(typhos)', 'nodal_skin_eruptions', 'sinus_pressure', 'weakness_in_limbs', 'yellowing_of_eyes', 'yellowish_skin', 'bladder_discomfort', 'enlarged_thyroid', 'painful_walking', 'muscle_weakness', 'runny_nose', 'vomiting', 'skin_peeling', 'headache', 'abdominal_pain', 'shivering', 'silver_like_dusting', 'loss_of_smell', 'excessive_hunger', 'dizziness', 'blackheads', 'loss_of_balance', 'high_fever', 'nausea', 'mood_swings', 'dischromic _patches', 'slurred_speech', 'fluid_overload', 'receiving_blood_transfusion', 'blood_in_sputum', 'swelling_joints', 'altered_sensorium', 'swelling_of_stomach', 'burning_micturition', 'breathlessness', 'fast_heart_rate', 'cough', 'family_history', 'pain_in_anal_region', 'obesity', 'blister', 'pain_during_bowel_movements', 'palpitations', 'congestion', 'puffy_face_and_eyes', 'depression', 'dark_urine', 'small_dents_in_nails', 'bloody_stool', 'swollen_blood_vessels', 'throat_irritation', 'weight_loss', 'pain_behind_the_eyes', 'muscle_wasting', 'lethargy', 'acute_liver_failure', 'weight_gain', 'sunken_eyes', 'swollen_extremeties', 'phlegm', 'passage_of_gases', 'redness_of_eyes', 'visual_disturbances', 'swelled_lymph_nodes', 'ulcers_on_tongue', 'belly_pain', 'continuous_feel_of_urine', 'yellow_urine', 'spinning_movements', 'drying_and_tingling_lips', 'yellow_crust_ooze', 'continuous_sneezing', 'extra_marital_contacts', 'chest_pain', 'chills', 'loss_of_appetite', 'bruising', 'constipation', 'cramps', 'irritability', 'restlessness', 'watering_from_eyes', 'neck_pain', 'red_spots_over_body', 'hip_joint_pain', 'mucoid_sputum', 'malaise', 'indigestion', 'sweating', 'inflammatory_nails', 'pus_filled_pimples', 'cold_hands_and_feets', 'muscle_pain', 'history_of_alcohol_consumption', 'scurring', 'acidity', 'abnormal_menstruation', 'irritation_in_anus', 'diarrhoea', 'patches_in_throat', 'red_sore_around_nose', 'spotting_ urination', 'joint_pain', 'prominent_veins_on_calf', 'blurred_and_distorted_vision', 'knee_pain', 'foul_smell_of urine', 'coma', 'increased_appetite', 'stiff_neck', 'mild_fever', 'anxiety', 'fatigue', 'distention_of_abdomen', 'receiving_unsterile_injections', 'skin_rash', 'internal_itching', 'polyuria']\n"
     ]
    }
   ],
   "source": [
    "#t_data, t_label, symp, dis = transform_train_data(data)\n"
   ]
  },
  {
   "cell_type": "code",
   "execution_count": 29,
   "metadata": {},
   "outputs": [],
   "source": [
    "#one-hot encode data\n",
    "t_data, t_label, symp, dis = transform_train_data(train_data)\n",
    "train_data, train_label = t_data, t_label\n",
    "\n",
    "#validation/train split\n",
    "#valid_rows = np.random.choice(len(t_data),size=40, replace=False)\n",
    "#valid_data, valid_label = t_data[valid_rows,:], t_label[valid_rows,:]\n",
    "#train_data, train_label = np.delete(t_data, valid_rows, axis=0), np.delete(t_label, valid_rows, axis=0)"
   ]
  },
  {
   "cell_type": "code",
   "execution_count": 24,
   "metadata": {},
   "outputs": [],
   "source": [
    "#save one-hot encoding\n",
    "with open('ohe_symptoms.txt', 'w') as ohe:\n",
    "    ohe.writelines('%s\\n' % s for s in symp)\n",
    "with open('ohe_diseases.txt', 'w') as ohe:\n",
    "    ohe.writelines('%s\\n' % d for d in dis)\n",
    "#np.savetxt('ohe_symptoms.csv', np.array(symp), fmt='%s')\n",
    "#np.savetxt('ohe_diseases.csv', np.array(dis), fmt='%s')"
   ]
  },
  {
   "cell_type": "code",
   "execution_count": 12,
   "metadata": {},
   "outputs": [
    {
     "name": "stdout",
     "output_type": "stream",
     "text": [
      "['movement_stiffness', 'brittle_nails', 'swollen_legs', 'stomach_pain', 'weakness_of_one_body_side', 'unsteadiness', 'rusty_sputum', 'back_pain', 'dehydration', 'irregular_sugar_level', 'lack_of_concentration', 'stomach_bleeding', 'itching', 'toxic_look_(typhos)', 'nodal_skin_eruptions', 'sinus_pressure', 'weakness_in_limbs', 'yellowing_of_eyes', 'yellowish_skin', 'bladder_discomfort', 'enlarged_thyroid', 'painful_walking', 'muscle_weakness', 'runny_nose', 'vomiting', 'skin_peeling', 'headache', 'abdominal_pain', 'shivering', 'silver_like_dusting', 'loss_of_smell', 'excessive_hunger', 'dizziness', 'blackheads', 'loss_of_balance', 'high_fever', 'nausea', 'mood_swings', 'dischromic _patches', 'slurred_speech', 'fluid_overload', 'receiving_blood_transfusion', 'blood_in_sputum', 'swelling_joints', 'altered_sensorium', 'swelling_of_stomach', 'burning_micturition', 'breathlessness', 'fast_heart_rate', 'cough', 'family_history', 'pain_in_anal_region', 'obesity', 'blister', 'pain_during_bowel_movements', 'palpitations', 'congestion', 'puffy_face_and_eyes', 'depression', 'dark_urine', 'small_dents_in_nails', 'bloody_stool', 'swollen_blood_vessels', 'throat_irritation', 'weight_loss', 'pain_behind_the_eyes', 'muscle_wasting', 'lethargy', 'acute_liver_failure', 'weight_gain', 'sunken_eyes', 'swollen_extremeties', 'phlegm', 'passage_of_gases', 'redness_of_eyes', 'visual_disturbances', 'swelled_lymph_nodes', 'ulcers_on_tongue', 'belly_pain', 'continuous_feel_of_urine', 'yellow_urine', 'spinning_movements', 'drying_and_tingling_lips', 'yellow_crust_ooze', 'continuous_sneezing', 'extra_marital_contacts', 'chest_pain', 'chills', 'loss_of_appetite', 'bruising', 'constipation', 'cramps', 'irritability', 'restlessness', 'watering_from_eyes', 'neck_pain', 'red_spots_over_body', 'hip_joint_pain', 'mucoid_sputum', 'malaise', 'indigestion', 'sweating', 'inflammatory_nails', 'pus_filled_pimples', 'cold_hands_and_feets', 'muscle_pain', 'history_of_alcohol_consumption', 'scurring', 'acidity', 'abnormal_menstruation', 'irritation_in_anus', 'diarrhoea', 'patches_in_throat', 'red_sore_around_nose', 'spotting_ urination', 'joint_pain', 'prominent_veins_on_calf', 'blurred_and_distorted_vision', 'knee_pain', 'foul_smell_of urine', 'coma', 'increased_appetite', 'stiff_neck', 'mild_fever', 'anxiety', 'fatigue', 'distention_of_abdomen', 'receiving_unsterile_injections', 'skin_rash', 'internal_itching', 'polyuria']\n"
     ]
    }
   ],
   "source": [
    "print(symp)"
   ]
  },
  {
   "cell_type": "code",
   "execution_count": 30,
   "metadata": {},
   "outputs": [
    {
     "name": "stdout",
     "output_type": "stream",
     "text": [
      "Running on GPU\n"
     ]
    }
   ],
   "source": [
    "if torch.cuda.is_available():\n",
    "    device = torch.device('cuda:0')\n",
    "    print('Running on GPU')\n",
    "else:\n",
    "    device = torch.device('cpu')\n",
    "    print('Running on CPU')"
   ]
  },
  {
   "cell_type": "code",
   "execution_count": 113,
   "metadata": {},
   "outputs": [],
   "source": [
    "'''\n",
    "class NN(nn.Module):\n",
    "    def __init__(self, num_dis, num_symp):\n",
    "        super(NN, self).__init__()\n",
    "        self.num_dis = num_dis\n",
    "        self.num_symp = num_symp\n",
    "        self.ll1 = nn.Linear(num_symp, 512)\n",
    "        self.ll2 = nn.Linear(512, 512)\n",
    "        self.ll3 = nn.Linear(512, 256)\n",
    "        self.ll4 = nn.Linear(256, 512)\n",
    "        self.ll5 = nn.Linear(512, 256)\n",
    "        self.ll6 = nn.Linear(256, 128)\n",
    "        self.ll5 = nn.Linear(128, num_dis)\n",
    "        \n",
    "    def forward(self, x):\n",
    "        x = F.relu(self.ll1(x))\n",
    "        x = F.relu(self.ll2(x))\n",
    "        x = F.relu(self.ll3(x))\n",
    "        x = F.relu(self.ll4(x))\n",
    "        x = F.relu(self.ll5(x))\n",
    "        x = F.relu(self.ll6(x))\n",
    "        x = self.ll7(x)\n",
    "        return x\n",
    "'''"
   ]
  },
  {
   "cell_type": "code",
   "execution_count": 31,
   "metadata": {},
   "outputs": [
    {
     "data": {
      "text/plain": [
       "CS145_NN(\n",
       "  (ll1): Linear(in_features=131, out_features=512, bias=True)\n",
       "  (ll2): Linear(in_features=512, out_features=128, bias=True)\n",
       "  (ll5): Linear(in_features=128, out_features=41, bias=True)\n",
       ")"
      ]
     },
     "execution_count": 31,
     "metadata": {},
     "output_type": "execute_result"
    }
   ],
   "source": [
    "#model\n",
    "from model import CS145_NN\n",
    "model_d = CS145_NN()\n",
    "model_d.to(device)"
   ]
  },
  {
   "cell_type": "code",
   "execution_count": 35,
   "metadata": {},
   "outputs": [],
   "source": [
    "#Loss Function\n",
    "loss_f = nn.CrossEntropyLoss()\n",
    "#Optimizer\n",
    "optim = torch.optim.Adam(model_d.parameters(), lr=0.001)"
   ]
  },
  {
   "cell_type": "code",
   "execution_count": 36,
   "metadata": {},
   "outputs": [],
   "source": [
    "def train(input, label, model, batch_size, loss_func, optimizer, device):\n",
    "    input, label = torch.tensor(input).to(device).float(), torch.tensor(label).to(device).long()\n",
    "    model = model.to(device)\n",
    "\n",
    "    losses = []\n",
    "    model.train()\n",
    "    n_batch = int(len(label)/batch_size)\n",
    "    if n_batch * batch_size < len(label):\n",
    "        n_batch += 1\n",
    "\n",
    "    \n",
    "    for b in range(n_batch):\n",
    "        optimizer.zero_grad()\n",
    "        inp = input[b*batch_size:(b+1)*batch_size]\n",
    "        lab = label[b*batch_size:(b+1)*batch_size]\n",
    "        pred = model(inp)\n",
    "        loss = loss_func(pred, lab.flatten())\n",
    "        loss.backward()\n",
    "        losses.append(loss)\n",
    "        optimizer.step()\n",
    "    print(f'End of Epoch Loss: {round((sum(losses)/len(input)).item(), 3)}')\n",
    "\n"
   ]
  },
  {
   "cell_type": "code",
   "execution_count": 9,
   "metadata": {},
   "outputs": [],
   "source": [
    "#validation\n",
    "def test(input, label, model, device):\n",
    "    model = model.to(device)\n",
    "    input, label = torch.tensor(input).to(device).float(), torch.tensor(label).to(device).long()\n",
    "    model.eval()\n",
    "    prediction = model(input).argmax(axis=1)\n",
    "    #print(label)\n",
    "    #print(prediction)\n",
    "    correct = (prediction == label.flatten()).sum().item()\n",
    "    print(f'Accuracy: {correct}')\n",
    "    "
   ]
  },
  {
   "cell_type": "code",
   "execution_count": 37,
   "metadata": {},
   "outputs": [
    {
     "name": "stdout",
     "output_type": "stream",
     "text": [
      "Epoch:  1\n",
      "End of Epoch Loss: 0.119\n",
      "Epoch:  2\n",
      "End of Epoch Loss: 0.105\n",
      "Epoch:  3\n",
      "End of Epoch Loss: 0.08\n",
      "Epoch:  4\n",
      "End of Epoch Loss: 0.05\n",
      "Epoch:  5\n",
      "End of Epoch Loss: 0.025\n",
      "Epoch:  6\n",
      "End of Epoch Loss: 0.011\n",
      "Epoch:  7\n",
      "End of Epoch Loss: 0.005\n",
      "Epoch:  8\n",
      "End of Epoch Loss: 0.003\n",
      "Epoch:  9\n",
      "End of Epoch Loss: 0.002\n",
      "Epoch:  10\n",
      "End of Epoch Loss: 0.001\n",
      "Epoch:  11\n",
      "End of Epoch Loss: 0.001\n",
      "Epoch:  12\n",
      "End of Epoch Loss: 0.001\n",
      "Epoch:  13\n",
      "End of Epoch Loss: 0.0\n",
      "Epoch:  14\n",
      "End of Epoch Loss: 0.0\n",
      "Epoch:  15\n",
      "End of Epoch Loss: 0.0\n",
      "Epoch:  16\n",
      "End of Epoch Loss: 0.0\n",
      "Epoch:  17\n",
      "End of Epoch Loss: 0.0\n",
      "Epoch:  18\n",
      "End of Epoch Loss: 0.0\n",
      "Epoch:  19\n",
      "End of Epoch Loss: 0.0\n",
      "Epoch:  20\n",
      "End of Epoch Loss: 0.0\n",
      "Epoch:  21\n",
      "End of Epoch Loss: 0.0\n",
      "Epoch:  22\n",
      "End of Epoch Loss: 0.0\n",
      "Epoch:  23\n",
      "End of Epoch Loss: 0.0\n",
      "Epoch:  24\n",
      "End of Epoch Loss: 0.0\n",
      "Epoch:  25\n",
      "End of Epoch Loss: 0.0\n",
      "Epoch:  26\n",
      "End of Epoch Loss: 0.0\n",
      "Epoch:  27\n",
      "End of Epoch Loss: 0.0\n",
      "Epoch:  28\n",
      "End of Epoch Loss: 0.0\n",
      "Epoch:  29\n",
      "End of Epoch Loss: 0.0\n",
      "Epoch:  30\n",
      "End of Epoch Loss: 0.0\n",
      "Epoch:  31\n",
      "End of Epoch Loss: 0.0\n",
      "Epoch:  32\n",
      "End of Epoch Loss: 0.0\n",
      "Epoch:  33\n",
      "End of Epoch Loss: 0.0\n",
      "Epoch:  34\n",
      "End of Epoch Loss: 0.0\n",
      "Epoch:  35\n",
      "End of Epoch Loss: 0.0\n",
      "Epoch:  36\n",
      "End of Epoch Loss: 0.0\n",
      "Epoch:  37\n",
      "End of Epoch Loss: 0.0\n",
      "Epoch:  38\n",
      "End of Epoch Loss: 0.0\n",
      "Epoch:  39\n",
      "End of Epoch Loss: 0.0\n",
      "Epoch:  40\n",
      "End of Epoch Loss: 0.0\n",
      "Epoch:  41\n",
      "End of Epoch Loss: 0.0\n",
      "Epoch:  42\n",
      "End of Epoch Loss: 0.0\n",
      "Epoch:  43\n",
      "End of Epoch Loss: 0.0\n",
      "Epoch:  44\n",
      "End of Epoch Loss: 0.0\n",
      "Epoch:  45\n",
      "End of Epoch Loss: 0.0\n",
      "Epoch:  46\n",
      "End of Epoch Loss: 0.0\n",
      "Epoch:  47\n",
      "End of Epoch Loss: 0.0\n",
      "Epoch:  48\n",
      "End of Epoch Loss: 0.0\n",
      "Epoch:  49\n",
      "End of Epoch Loss: 0.0\n",
      "Epoch:  50\n",
      "End of Epoch Loss: 0.0\n"
     ]
    }
   ],
   "source": [
    "#Train/Test Script\n",
    "for epoch in range(1,51):\n",
    "    print('Epoch: ', epoch)\n",
    "    train(train_data, train_label, model_d, 32, loss_f, optim, device)\n",
    "    #test(valid_data, valid_label, model_d, device)"
   ]
  },
  {
   "cell_type": "code",
   "execution_count": 38,
   "metadata": {},
   "outputs": [],
   "source": [
    "def predict(input, model, device):\n",
    "    model = model.to(device)\n",
    "    input = torch.tensor(input).to(device).float()\n",
    "    model.eval()\n",
    "    prediction = model(input).argmax(axis=1)\n",
    "    return prediction"
   ]
  },
  {
   "cell_type": "code",
   "execution_count": 39,
   "metadata": {},
   "outputs": [],
   "source": [
    "def transform_test_data(X, symptom_set):\n",
    "    N,d = X.shape\n",
    "    symptoms = X[:,1:]\n",
    "    test_input = np.zeros(shape=(N,131), dtype=int)\n",
    "    #print(symptom_set)\n",
    "    for i in range(N):\n",
    "        for sym in symptoms[i,:]:\n",
    "            if sym != '':\n",
    "                s = sym\n",
    "                if s[0] == ' ':\n",
    "                    s = s[1:]\n",
    "                test_input[i,symptom_set.index(s)] = 1\n",
    "    return test_input"
   ]
  },
  {
   "cell_type": "code",
   "execution_count": 40,
   "metadata": {},
   "outputs": [],
   "source": [
    "def transform_test_label(y, disease_set):\n",
    "    N, = y.shape\n",
    "    to_csv = np.empty(shape=(N+1,2),dtype=object)\n",
    "    to_csv[0] = ['ID','Disease']\n",
    "    for i in range(N):\n",
    "        to_csv[i+1] = [str(i+1), disease_set[y[i]]]\n",
    "        \n",
    "    return to_csv\n",
    "    "
   ]
  },
  {
   "cell_type": "code",
   "execution_count": 41,
   "metadata": {},
   "outputs": [],
   "source": [
    "test_data = np.loadtxt('./test.csv', delimiter=',', dtype=str, skiprows=1)\n",
    "test_input = transform_test_data(test_data, symp)\n",
    "test_pred = predict(test_input, model_d, device)\n",
    "csv_arr = transform_test_label(test_pred, dis)"
   ]
  },
  {
   "cell_type": "code",
   "execution_count": 42,
   "metadata": {},
   "outputs": [],
   "source": [
    "#save csv\n",
    "np.savetxt('submission21.csv',csv_arr, delimiter=',', fmt='%s')"
   ]
  },
  {
   "cell_type": "code",
   "execution_count": 43,
   "metadata": {},
   "outputs": [],
   "source": [
    "#save weights\n",
    "torch.save(model_d, \"cs145_m21.pt\") "
   ]
  },
  {
   "cell_type": "code",
   "execution_count": 22,
   "metadata": {},
   "outputs": [
    {
     "data": {
      "text/plain": [
       "CS145_NN(\n",
       "  (ll1): Linear(in_features=131, out_features=512, bias=True)\n",
       "  (ll2): Linear(in_features=512, out_features=128, bias=True)\n",
       "  (ll5): Linear(in_features=128, out_features=41, bias=True)\n",
       ")"
      ]
     },
     "execution_count": 22,
     "metadata": {},
     "output_type": "execute_result"
    }
   ],
   "source": [
    "#load weights\n",
    "model_d = torch.load(\"cs145_m21.pt\")\n",
    "model_d.eval()\n"
   ]
  }
 ],
 "metadata": {
  "interpreter": {
   "hash": "69a9235b2799f09bc7a4d7fc4018927df298a0a697379818c8dec9478f72590e"
  },
  "kernelspec": {
   "display_name": "Python 3 (ipykernel)",
   "language": "python",
   "name": "python3"
  },
  "language_info": {
   "codemirror_mode": {
    "name": "ipython",
    "version": 3
   },
   "file_extension": ".py",
   "mimetype": "text/x-python",
   "name": "python",
   "nbconvert_exporter": "python",
   "pygments_lexer": "ipython3",
   "version": "3.9.9"
  }
 },
 "nbformat": 4,
 "nbformat_minor": 2
}
